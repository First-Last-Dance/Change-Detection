{
 "cells": [
  {
   "cell_type": "code",
   "execution_count": 1,
   "metadata": {},
   "outputs": [],
   "source": [
    "import numpy as np\n",
    "import matplotlib.pyplot as plt\n",
    "from skimage import io, color\n",
    "import os\n",
    "from sklearn.metrics import accuracy_score, precision_score, recall_score, f1_score, confusion_matrix, classification_report"
   ]
  },
  {
   "cell_type": "code",
   "execution_count": 2,
   "metadata": {},
   "outputs": [],
   "source": [
    "# Function to load images from directory\n",
    "def load_images_from_folder(folder, is_gray = True):\n",
    "    images = []\n",
    "    for filename in os.listdir(folder):\n",
    "        img = io.imread(os.path.join(folder,filename)).astype(np.uint8)\n",
    "        if img is not None:\n",
    "            img = img/255\n",
    "            if is_gray:\n",
    "                images.append(color.rgb2gray(img))\n",
    "            else:    \n",
    "                images.append(img)\n",
    "    return images\n"
   ]
  },
  {
   "cell_type": "code",
   "execution_count": 3,
   "metadata": {},
   "outputs": [],
   "source": [
    "# Load images from folders A and B\n",
    "folder_A = 'testval/A'\n",
    "folder_B = 'testval/B'\n",
    "folder_label = 'testval/label'"
   ]
  },
  {
   "cell_type": "code",
   "execution_count": 4,
   "metadata": {},
   "outputs": [],
   "source": [
    "images_A = load_images_from_folder(folder_A)\n",
    "images_B = load_images_from_folder(folder_B)\n",
    "labels = load_images_from_folder(folder_label, is_gray = False)"
   ]
  },
  {
   "cell_type": "code",
   "execution_count": 5,
   "metadata": {},
   "outputs": [],
   "source": [
    "images_A = np.array(images_A)\n",
    "images_B = np.array(images_B)\n",
    "labels = np.array(labels)"
   ]
  },
  {
   "cell_type": "code",
   "execution_count": 6,
   "metadata": {},
   "outputs": [],
   "source": [
    "\n",
    "def calculate_jaccard_index(pred_mask, true_mask):\n",
    "    intersection = np.logical_and(pred_mask, true_mask).sum()\n",
    "    union = np.logical_or(pred_mask, true_mask).sum()\n",
    "    jaccard_index = intersection / union\n",
    "    return jaccard_index\n",
    "\n",
    "def calculate_jaccard_index_avg(pred_mask, true_mask):\n",
    "    arr = []\n",
    "    for i in range(len(pred_mask)):\n",
    "        intersection = np.logical_and(pred_mask[i], true_mask[i]).sum()\n",
    "        union = np.logical_or(pred_mask[i], true_mask[i]).sum()\n",
    "        if union != 0:\n",
    "            arr.append(intersection / union)\n",
    "        else:\n",
    "            arr.append(1)\n",
    "    \n",
    "    jaccard_index = np.array(arr).mean()        \n",
    "    return jaccard_index"
   ]
  },
  {
   "cell_type": "code",
   "execution_count": 7,
   "metadata": {},
   "outputs": [],
   "source": [
    "def change_detection_cva(images_time1, images_time2):\n",
    "    if images_time1.shape != images_time2.shape:\n",
    "        raise ValueError(\"Input arrays must have the same shape\")\n",
    "\n",
    "    change_images = np.zeros_like(images_time1, dtype=np.uint8)\n",
    "\n",
    "    change_vectors = np.abs(images_time2 - images_time1)\n",
    "\n",
    "    for i in range(images_time1.shape[0]):\n",
    "        for j in range(images_time1.shape[1]):\n",
    "            magnitude = np.linalg.norm(change_vectors[i, j])\n",
    "            change_images[i, j] = magnitude\n",
    "            \n",
    "    return change_images"
   ]
  },
  {
   "cell_type": "code",
   "execution_count": 8,
   "metadata": {},
   "outputs": [],
   "source": [
    "def image_difference(image_A, image_B):\n",
    "    diff = np.abs(image_A - image_B)\n",
    "    return diff"
   ]
  },
  {
   "cell_type": "code",
   "execution_count": 9,
   "metadata": {},
   "outputs": [],
   "source": [
    "cva_mask = change_detection_cva(images_A, images_B)"
   ]
  },
  {
   "cell_type": "code",
   "execution_count": 18,
   "metadata": {},
   "outputs": [],
   "source": [
    "cva_mask_thresholded = cva_mask > 2"
   ]
  },
  {
   "cell_type": "code",
   "execution_count": 19,
   "metadata": {},
   "outputs": [
    {
     "name": "stdout",
     "output_type": "stream",
     "text": [
      "For CVA Jaccard Index: 0.020393760595666836\n",
      "For CVA Jaccard Index Avg: 0.641236050600443\n"
     ]
    }
   ],
   "source": [
    "jaccard_index = calculate_jaccard_index(cva_mask_thresholded, labels)\n",
    "jaccard_index_avg = calculate_jaccard_index_avg(cva_mask_thresholded, labels)\n",
    "print(\"For CVA Jaccard Index:\", jaccard_index)\n",
    "print(\"For CVA Jaccard Index Avg:\", jaccard_index_avg)"
   ]
  },
  {
   "cell_type": "code",
   "execution_count": 20,
   "metadata": {},
   "outputs": [],
   "source": [
    "change_mask = image_difference(images_A, images_B)"
   ]
  },
  {
   "cell_type": "code",
   "execution_count": 21,
   "metadata": {},
   "outputs": [
    {
     "name": "stdout",
     "output_type": "stream",
     "text": [
      "Threshold:0.05 | Our jaccard:0.009665183362494709 | Avg jaccard:0.007285447537951842\n",
      "===========================================================================================================\n",
      "Threshold:0.1 | Our jaccard:0.013243448669261908 | Avg jaccard:0.008193102431354878\n",
      "===========================================================================================================\n",
      "Threshold:0.15 | Our jaccard:0.016578066580712224 | Avg jaccard:0.00845200594198163\n",
      "===========================================================================================================\n",
      "Threshold:0.2 | Our jaccard:0.019855131856503342 | Avg jaccard:0.012745709804122011\n",
      "===========================================================================================================\n",
      "Threshold:0.25 | Our jaccard:0.02527881358241676 | Avg jaccard:0.04400281306142276\n",
      "===========================================================================================================\n",
      "Threshold:0.3 | Our jaccard:0.03143803636236002 | Avg jaccard:0.10286201736443286\n",
      "===========================================================================================================\n",
      "Threshold:0.35 | Our jaccard:0.030560845883413623 | Avg jaccard:0.17948671869021013\n",
      "===========================================================================================================\n",
      "Threshold:0.4 | Our jaccard:0.01971641641914416 | Avg jaccard:0.30463669061537996\n",
      "===========================================================================================================\n",
      "Threshold:0.45 | Our jaccard:0.009962868911351582 | Avg jaccard:0.4948490940588774\n",
      "===========================================================================================================\n",
      "Threshold:0.5 | Our jaccard:0.004774716353064877 | Avg jaccard:0.6505135688632608\n",
      "===========================================================================================================\n"
     ]
    }
   ],
   "source": [
    "thresholds = [0.05,0.1,0.15,0.2,0.25,0.3,0.35,0.4,0.45,0.5]\n",
    "\n",
    "for th in thresholds:\n",
    "    change_mask_thresholded = change_mask > th\n",
    "    jaccard_index = calculate_jaccard_index(change_mask_thresholded, labels)\n",
    "    jaccard_index_avg = calculate_jaccard_index_avg(change_mask_thresholded, labels)\n",
    "    print(f\"Threshold:{th} | Our jaccard:{jaccard_index} | Avg jaccard:{jaccard_index_avg}\")\n",
    "    # print(confusion_matrix(labels, change_mask_thresholded))\n",
    "    print(\"===========================================================================================================\")"
   ]
  },
  {
   "cell_type": "code",
   "execution_count": null,
   "metadata": {},
   "outputs": [],
   "source": []
  }
 ],
 "metadata": {
  "kernelspec": {
   "display_name": "Python 3",
   "language": "python",
   "name": "python3"
  },
  "language_info": {
   "codemirror_mode": {
    "name": "ipython",
    "version": 3
   },
   "file_extension": ".py",
   "mimetype": "text/x-python",
   "name": "python",
   "nbconvert_exporter": "python",
   "pygments_lexer": "ipython3",
   "version": "3.10.7"
  }
 },
 "nbformat": 4,
 "nbformat_minor": 2
}
