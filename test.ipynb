{
 "cells": [
  {
   "cell_type": "code",
   "execution_count": 18,
   "metadata": {},
   "outputs": [],
   "source": [
    "import numpy as np\n",
    "import numpy as np\n",
    "from sklearn.metrics import jaccard_score\n",
    "from torchmetrics import JaccardIndex, Dice\n",
    "from torch import tensor\n",
    "import torch.nn as nn\n",
    "import torch\n",
    "import torch.utils\n",
    "import torch.utils.data\n",
    "from sklearn.model_selection import train_test_split\n",
    "import attention as at\n",
    "from torch.functional import F\n",
    "from torchvision.ops.focal_loss import sigmoid_focal_loss\n",
    "from skimage import io"
   ]
  },
  {
   "cell_type": "code",
   "execution_count": 2,
   "metadata": {},
   "outputs": [],
   "source": [
    "a = np.random.randint(0,2,(6,194,194))\n",
    "b = np.random.randint(0,2,(6,194,194))"
   ]
  },
  {
   "cell_type": "code",
   "execution_count": 3,
   "metadata": {},
   "outputs": [],
   "source": [
    "intersection = np.logical_and(a,b)"
   ]
  },
  {
   "cell_type": "code",
   "execution_count": 4,
   "metadata": {},
   "outputs": [],
   "source": [
    "unioun = np.logical_or(a,b)"
   ]
  },
  {
   "cell_type": "code",
   "execution_count": 5,
   "metadata": {},
   "outputs": [
    {
     "name": "stdout",
     "output_type": "stream",
     "text": [
      "0.3345054011480758\n"
     ]
    }
   ],
   "source": [
    "print(intersection.sum()/unioun.sum())"
   ]
  },
  {
   "cell_type": "code",
   "execution_count": 21,
   "metadata": {},
   "outputs": [
    {
     "name": "stdout",
     "output_type": "stream",
     "text": [
      "Jaccard index calculated : 0.500000000075\n",
      "Jaccard index from sklearn : 0.5\n",
      "Jaccard index from torchmetrics : 0.5\n",
      "Dice from torchmetrics : tensor(0.3333)\n",
      "Dice calculated : 0.30000001192092896\n"
     ]
    }
   ],
   "source": [
    "def jaccard_index(mask1, mask2):\n",
    "    intersection = np.logical_and(mask1, mask2) + 1e-10\n",
    "    union = np.logical_or(mask1, mask2) + 1e-10\n",
    "    # intersection = mask1 * mask2\n",
    "    # union = mask1 + mask2\n",
    "    iou = (intersection.sum() / union.sum())\n",
    "    return iou\n",
    "\n",
    "def dice_loss(pred, target, smooth=1):\n",
    "    pred = pred.contiguous()\n",
    "    target = target.contiguous()\n",
    "\n",
    "    intersection = (pred * target).sum(dim=0).sum(dim=0)\n",
    "\n",
    "    loss = (1 - ((2. * intersection + smooth) / (pred.sum(dim=0).sum(dim=0) + target.sum(dim=0).sum(dim=0) + smooth)))\n",
    "\n",
    "    return loss.mean()\n",
    "\n",
    "# Example usage:\n",
    "# Assuming mask1 and mask2 are binary masks represented as NumPy arrays\n",
    "mask1 = np.array([[0, 0, 0],\n",
    "                  [1, 1, 1],\n",
    "                  [0, 0, 1]])\n",
    "\n",
    "mask2 = np.array([[0, 1, 1],\n",
    "                  [1, 1, 0],\n",
    "                  [0, 0, 1]])\n",
    "\n",
    "iou = jaccard_index(mask1, mask2)\n",
    "print(\"Jaccard index calculated :\", iou)\n",
    "print('Jaccard index from sklearn :', jaccard_score(mask1, mask2, average='micro', zero_division=1))\n",
    "print('Jaccard index from torchmetrics :', JaccardIndex(task='binary')(tensor(mask1), tensor(mask2)).item())\n",
    "print('Dice from torchmetrics :', 1 - Dice(multiclass=False,num_classes=1)(tensor(mask1), tensor(mask2)))\n",
    "print('Dice calculated :', dice_loss(tensor(mask1), tensor(mask2)).item())"
   ]
  },
  {
   "cell_type": "code",
   "execution_count": 5,
   "metadata": {},
   "outputs": [
    {
     "data": {
      "text/plain": [
       "(3, 3)"
      ]
     },
     "execution_count": 5,
     "metadata": {},
     "output_type": "execute_result"
    }
   ],
   "source": [
    "np.zeros((2,3,3))[0].shape"
   ]
  },
  {
   "cell_type": "code",
   "execution_count": 140,
   "metadata": {},
   "outputs": [
    {
     "name": "stdout",
     "output_type": "stream",
     "text": [
      "Binary Cross Entropy : 22.22222137451172\n"
     ]
    }
   ],
   "source": [
    "print('Binary Cross Entropy :', nn.BCELoss(weight=tensor(1))(tensor(mask1,dtype=torch.float32), tensor(mask2,dtype=torch.float32)).item())"
   ]
  },
  {
   "cell_type": "code",
   "execution_count": 128,
   "metadata": {},
   "outputs": [],
   "source": [
    "target = io.imread('target.png') // 255\n",
    "predict = np.zeros_like(target) // 255\n",
    "# predict = io.imread('predict.png',as_gray=True) // 255"
   ]
  },
  {
   "cell_type": "code",
   "execution_count": 130,
   "metadata": {},
   "outputs": [
    {
     "name": "stdout",
     "output_type": "stream",
     "text": [
      "Jaccard index calculated : 0.0\n",
      "Jaccard index from sklearn : 0.0\n",
      "Jaccard index from torchmetrics : 0.0\n",
      "Dice from torchmetrics : tensor(1.)\n",
      "Dice calculated : 0.9919354915618896\n"
     ]
    }
   ],
   "source": [
    "iou = jaccard_index(target, predict)\n",
    "print(\"Jaccard index calculated :\", iou)\n",
    "print('Jaccard index from sklearn :', jaccard_score(target.flatten(), predict.flatten(), average='binary'))\n",
    "print('Jaccard index from torchmetrics :', JaccardIndex(task='binary')(tensor(target), tensor(predict)).item())\n",
    "print('Dice from torchmetrics :', 1 - Dice(multiclass=False,num_classes=1)(tensor(target), tensor(predict)))\n",
    "print('Dice calculated :', dice_loss(tensor(target), tensor(predict)).item())"
   ]
  },
  {
   "cell_type": "code",
   "execution_count": 144,
   "metadata": {},
   "outputs": [
    {
     "name": "stdout",
     "output_type": "stream",
     "text": [
      "Binary Cross Entropy : 1.8768310546875\n"
     ]
    }
   ],
   "source": [
    "print('Binary Cross Entropy :', nn.BCELoss(weight=tensor(10))(tensor(predict,dtype=torch.float32), tensor(target,dtype=torch.float32)).item())"
   ]
  },
  {
   "cell_type": "code",
   "execution_count": 161,
   "metadata": {},
   "outputs": [
    {
     "name": "stdout",
     "output_type": "stream",
     "text": [
      "Focal Loss : tensor(0.6455)\n"
     ]
    }
   ],
   "source": [
    "loss = sigmoid_focal_loss(tensor(predict,dtype=torch.float32), tensor(target,dtype=torch.float32), gamma=0.1, alpha=0, reduction='mean')\n",
    "print('Focal Loss :', loss)"
   ]
  },
  {
   "cell_type": "code",
   "execution_count": 35,
   "metadata": {},
   "outputs": [
    {
     "name": "stderr",
     "output_type": "stream",
     "text": [
      "C:\\Users\\acer\\AppData\\Local\\Temp\\ipykernel_3048\\2214675989.py:1: UserWarning: To copy construct from a tensor, it is recommended to use sourceTensor.clone().detach() or sourceTensor.clone().detach().requires_grad_(True), rather than torch.tensor(sourceTensor).\n",
      "  tensor(tensor(mask1))\n"
     ]
    },
    {
     "data": {
      "text/plain": [
       "tensor([[0, 1, 0],\n",
       "        [1, 1, 0],\n",
       "        [0, 0, 1]], dtype=torch.int32)"
      ]
     },
     "execution_count": 35,
     "metadata": {},
     "output_type": "execute_result"
    }
   ],
   "source": [
    "tensor(tensor(mask1))"
   ]
  },
  {
   "cell_type": "code",
   "execution_count": 10,
   "metadata": {},
   "outputs": [
    {
     "name": "stdout",
     "output_type": "stream",
     "text": [
      "tensor(1.)\n"
     ]
    }
   ],
   "source": [
    "loss = 1 - Dice(multiclass=False).req(tensor(mask1), tensor(mask2))\n",
    "loss.requires_grad = True\n",
    "loss.backward()\n",
    "print(loss.grad)"
   ]
  },
  {
   "cell_type": "code",
   "execution_count": 25,
   "metadata": {},
   "outputs": [
    {
     "ename": "RuntimeError",
     "evalue": "only Tensors of floating point and complex dtype can require gradients",
     "output_type": "error",
     "traceback": [
      "\u001b[1;31m---------------------------------------------------------------------------\u001b[0m",
      "\u001b[1;31mRuntimeError\u001b[0m                              Traceback (most recent call last)",
      "Input \u001b[1;32mIn [25]\u001b[0m, in \u001b[0;36m<cell line: 5>\u001b[1;34m()\u001b[0m\n\u001b[0;32m      3\u001b[0m loss \u001b[38;5;241m=\u001b[39m criterion_dice(tensor(mask1), tensor(mask2))\n\u001b[0;32m      4\u001b[0m loss \u001b[38;5;241m=\u001b[39m loss\u001b[38;5;241m.\u001b[39mint()\n\u001b[1;32m----> 5\u001b[0m \u001b[43mloss\u001b[49m\u001b[38;5;241;43m.\u001b[39;49m\u001b[43mrequires_grad\u001b[49m \u001b[38;5;241m=\u001b[39m \u001b[38;5;28;01mTrue\u001b[39;00m\n\u001b[0;32m      6\u001b[0m loss\u001b[38;5;241m.\u001b[39mbackward()\n\u001b[0;32m      7\u001b[0m \u001b[38;5;28mprint\u001b[39m(loss\u001b[38;5;241m.\u001b[39mgrad)\n",
      "\u001b[1;31mRuntimeError\u001b[0m: only Tensors of floating point and complex dtype can require gradients"
     ]
    }
   ],
   "source": [
    "criterion_dice = Dice(multiclass=False,num_classes=1)\n",
    "criterion_dice.requires_grad_(True)\n",
    "loss = criterion_dice(tensor(mask1), tensor(mask2))\n",
    "loss = loss.int()\n",
    "loss.requires_grad = True\n",
    "loss.backward()\n",
    "print(loss.grad)"
   ]
  },
  {
   "cell_type": "code",
   "execution_count": 10,
   "metadata": {},
   "outputs": [
    {
     "name": "stdout",
     "output_type": "stream",
     "text": [
      "tensor([[[1, 0, 0],\n",
      "         [1, 1, 1],\n",
      "         [1, 0, 1]]])\n",
      "1\n",
      "0\n",
      "tensor([[0.7311, 0.5000, 0.5000],\n",
      "        [0.7311, 0.7311, 0.7311],\n",
      "        [0.7311, 0.5000, 0.7311]])\n"
     ]
    }
   ],
   "source": [
    "softmax = nn.Softmax(dim=1)\n",
    "input = (torch.randn((3,3)) > 0) * 1\n",
    "print(input.reshape((-1,3,3)))\n",
    "print(input.max().item())\n",
    "print(input.min().item())\n",
    "# output = softmax(input)\n",
    "# print(output)\n",
    "sigmoid = nn.Sigmoid()\n",
    "output = sigmoid(input)\n",
    "print(output)"
   ]
  },
  {
   "cell_type": "code",
   "execution_count": 51,
   "metadata": {},
   "outputs": [],
   "source": [
    "train_1, test_1 = torch.utils.data.random_split(range(10), [0.7,0.3])\n",
    "train_2, test_2 = train_test_split(range(10), test_size=0.3, random_state=42)\n",
    "train_3, test_3 = train_test_split(range(10), test_size=0.3, random_state=42)"
   ]
  },
  {
   "cell_type": "code",
   "execution_count": 52,
   "metadata": {},
   "outputs": [
    {
     "name": "stdout",
     "output_type": "stream",
     "text": [
      "[0, 7, 2, 9, 4, 3, 6] [8, 1, 5]\n",
      "[0, 7, 2, 9, 4, 3, 6] [8, 1, 5]\n"
     ]
    }
   ],
   "source": [
    "print(train_2,test_2)\n",
    "print(train_3,test_3)"
   ]
  },
  {
   "cell_type": "code",
   "execution_count": 6,
   "metadata": {},
   "outputs": [
    {
     "name": "stdout",
     "output_type": "stream",
     "text": [
      "[[55 24 20 48 18 10 44 33  2 24 54 32]\n",
      " [89 42 73 71 69  8 74  7 75  0 82 45]\n",
      " [63 72 40 69  0 69 57 59 93 61 75 31]\n",
      " [91 72 41 90 85 81 41 96 54 22 50 67]\n",
      " [91 58 33 55 89 81 47 86 78 55 10 71]\n",
      " [85 21 83 23 72 81 78 42 69 66 64 31]\n",
      " [56 28 74 11 14 52 85 82 65 85 28 89]\n",
      " [ 5 29 80 44  1 74 50 36 49 72 26  5]\n",
      " [75 62  6 36  1 11 82 36 36 15 94 73]\n",
      " [29 35 15  4 94 27 81 57 20 95 59 54]]\n"
     ]
    }
   ],
   "source": [
    "arr = np.random.randint(0, 100, (10, 12))\n",
    "print(arr)"
   ]
  },
  {
   "cell_type": "code",
   "execution_count": null,
   "metadata": {},
   "outputs": [],
   "source": [
    "np.transpose(arr,)"
   ]
  },
  {
   "cell_type": "code",
   "execution_count": 7,
   "metadata": {},
   "outputs": [
    {
     "ename": "ValueError",
     "evalue": "axes don't match array",
     "output_type": "error",
     "traceback": [
      "\u001b[1;31m---------------------------------------------------------------------------\u001b[0m",
      "\u001b[1;31mValueError\u001b[0m                                Traceback (most recent call last)",
      "Input \u001b[1;32mIn [7]\u001b[0m, in \u001b[0;36m<cell line: 1>\u001b[1;34m()\u001b[0m\n\u001b[1;32m----> 1\u001b[0m \u001b[43marr\u001b[49m\u001b[38;5;241;43m.\u001b[39;49m\u001b[43mrepeat\u001b[49m\u001b[43m(\u001b[49m\u001b[38;5;241;43m2\u001b[39;49m\u001b[43m,\u001b[49m\u001b[43m \u001b[49m\u001b[43maxis\u001b[49m\u001b[38;5;241;43m=\u001b[39;49m\u001b[38;5;241;43m1\u001b[39;49m\u001b[43m)\u001b[49m\u001b[38;5;241;43m.\u001b[39;49m\u001b[43mtranspose\u001b[49m\u001b[43m(\u001b[49m\u001b[43m[\u001b[49m\u001b[38;5;241;43m0\u001b[39;49m\u001b[43m,\u001b[49m\u001b[43m \u001b[49m\u001b[38;5;241;43m2\u001b[39;49m\u001b[43m,\u001b[49m\u001b[43m \u001b[49m\u001b[38;5;241;43m3\u001b[39;49m\u001b[43m,\u001b[49m\u001b[43m \u001b[49m\u001b[38;5;241;43m1\u001b[39;49m\u001b[43m]\u001b[49m\u001b[43m)\u001b[49m\u001b[38;5;241m.\u001b[39mastype(np\u001b[38;5;241m.\u001b[39muint8)\n",
      "\u001b[1;31mValueError\u001b[0m: axes don't match array"
     ]
    }
   ],
   "source": [
    "arr.repeat(2, axis=1).transpose([0, 2, 3, 1]).astype(np.uint8)"
   ]
  },
  {
   "cell_type": "code",
   "execution_count": null,
   "metadata": {},
   "outputs": [],
   "source": []
  }
 ],
 "metadata": {
  "kernelspec": {
   "display_name": "Python 3",
   "language": "python",
   "name": "python3"
  },
  "language_info": {
   "codemirror_mode": {
    "name": "ipython",
    "version": 3
   },
   "file_extension": ".py",
   "mimetype": "text/x-python",
   "name": "python",
   "nbconvert_exporter": "python",
   "pygments_lexer": "ipython3",
   "version": "3.9.6"
  }
 },
 "nbformat": 4,
 "nbformat_minor": 2
}
